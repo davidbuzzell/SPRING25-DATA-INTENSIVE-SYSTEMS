{
 "cells": [
  {
   "cell_type": "markdown",
   "metadata": {},
   "source": [
    "# H.02 | Introduction to SQL and OLAP\n",
    "\n",
    "H.02 will serve as a simple introduction to SQL and OLAP. It will cover the basic concepts and provide a foundation for understanding how to work with databases and perform data analysis using SQL. We'll use Snowflake as our database and TPC-H as our dataset."
   ]
  },
  {
   "cell_type": "markdown",
   "metadata": {},
   "source": [
    "## Snowflake\n",
    "\n",
    "Snowflake is a cloud-based data warehousing platform that provides a powerful and flexible environment for storing, processing, and analyzing large volumes of data. It is designed to handle complex data workloads and offers features such as scalability, high performance, and ease of use. Snowflake supports SQL as its primary query language, making it accessible to users familiar with SQL. We will be using Snowflake to demonstrate the concepts of SQL and OLAP.\n",
    "\n",
    "Please ensure you have the .env file filled out in the root of this folder, it is required to connect to Snowflake.\n",
    "\n",
    "## TPC-H \n",
    "\n",
    "TPC-H is a dataset that simulates a real-world business environment, and has relatively simple schema. It is widely used for testing and comparing the performance of different database systems. We're going to use TPC-H to demonstrate the concepts of SQL and OLAP. The dataset consists of several tables, each representing a different aspect of the business. The tables are related to each other through foreign keys, which allow us to join them together and perform complex queries.\n",
    "\n",
    "<div style=\"align: center; justify-content: center; display: flex;\">\n",
    "    <img src=\"https://docs.snowflake.com/en/_images/sample-data-tpch-schema.png\" alt=\"Snowflake Schema\" width=\"400\" height=\"400\" style = \"border-radius: 10px\">\n",
    "</div>"
   ]
  },
  {
   "cell_type": "markdown",
   "metadata": {},
   "source": [
    "## Snowflake Connection\n",
    "\n",
    "To connect to Snowflake, we will use the `snowflake-connector-python` library. This library provides a simple and efficient way to connect to Snowflake and execute SQL queries. We will also use the `pandas` library to load the data into a DataFrame for easy viewing.\n",
    "\n",
    "**NOTE**: Snowflake will send you a MFA code when you run the below cell. If it doesn't, make sure you can login on the web interface."
   ]
  },
  {
   "cell_type": "code",
   "execution_count": 1,
   "metadata": {},
   "outputs": [
    {
     "name": "stderr",
     "output_type": "stream",
     "text": [
      "/workspaces/SPRING25-DATA-INTENSIVE-SYSTEMS/venv/lib/python3.10/site-packages/snowflake/connector/options.py:108: UserWarning: You have an incompatible version of 'pyarrow' installed (19.0.1), please install a version that adheres to: 'pyarrow<19.0.0; extra == \"pandas\"'\n",
      "  warn_incompatible_dep(\n"
     ]
    }
   ],
   "source": [
    "import sys\n",
    "sys.path.append('../')\n",
    "from connection import connect_to_snowflake, as_dataframe\n",
    "conn = connect_to_snowflake(database=\"SNOWFLAKE_SAMPLE_DATA\", schema=\"TPCH_SF1\")\n",
    "cursor = conn.cursor()"
   ]
  },
  {
   "cell_type": "markdown",
   "metadata": {},
   "source": [
    "# Exercise 1 | Basic SQL Practice\n",
    "\n",
    "This part of the homework will focus on using the Snowflake Connector for Python to connect to a Snowflake database and perform basic operations."
   ]
  },
  {
   "cell_type": "markdown",
   "metadata": {},
   "source": [
    "## Exercise 1.1\n",
    "\n",
    "Retrieve the names and account balances of all customers whose balance is greater than 5000. Limit to 5 rows and order by acctbal (ascending).\n",
    "\n",
    "You should output a table with **5 rows** that looks like:\n",
    "\n",
    "| C_NAME | C_ACCTBAL |\n",
    "| ------- | --------- |\n",
    "| Customer#000095488 | 5000.09 |\n",
    "| ... | ... |"
   ]
  },
  {
   "cell_type": "code",
   "execution_count": 2,
   "metadata": {},
   "outputs": [
    {
     "name": "stdout",
     "output_type": "stream",
     "text": [
      "            C_NAME C_ACCTBAL\n",
      "Customer#000095488   5000.09\n",
      "Customer#000146711   5000.21\n",
      "Customer#000024740   5000.23\n",
      "Customer#000075576   5000.27\n",
      "Customer#000103760   5000.29\n"
     ]
    }
   ],
   "source": [
    "QUERY_CHALLENGE_1 = \"\"\"\n",
    "SELECT c_name, c_acctbal FROM customer\n",
    "WHERE c_acctbal > 5000\n",
    "ORDER BY c_acctbal ASC\n",
    "LIMIT 5;\n",
    "\"\"\"\n",
    "cursor.execute(QUERY_CHALLENGE_1)\n",
    "rows = cursor.fetchall()\n",
    "print(as_dataframe(rows, cursor).to_string(index=False))"
   ]
  },
  {
   "cell_type": "markdown",
   "metadata": {},
   "source": [
    "## Exercise 1.2\n",
    "\n",
    "List orderkey, orderdate, and totalprice with an order date in January 1995. Limit to 5 rows and order by totalprice (descending).\n",
    "\n",
    "You should output a table with **5 rows** that looks like:\n",
    "\n",
    "| O_ORDERKEY | O_ORDERDATE | O_TOTALPRICE | \n",
    "| ----------- | ----------- | ----------- |\n",
    "| 2948355 | 1995-01-21 | 469472.71 |\n",
    "| ... | ... | ... |"
   ]
  },
  {
   "cell_type": "code",
   "execution_count": 3,
   "metadata": {},
   "outputs": [
    {
     "name": "stdout",
     "output_type": "stream",
     "text": [
      " O_ORDERKEY O_ORDERDATE O_TOTALPRICE\n",
      "    2948355  1995-01-21    469472.71\n",
      "    5501606  1995-01-29    454827.49\n",
      "    4806726  1995-01-17    446704.09\n",
      "    4978885  1995-01-12    446578.70\n",
      "    3037414  1995-01-25    443807.22\n"
     ]
    }
   ],
   "source": [
    "QUERY_CHALLENGE_2 = \"\"\"\n",
    "SELECT o_orderkey, o_orderdate, o_totalprice FROM orders\n",
    "WHERE MONTH(o_orderdate) = 1 AND YEAR(o_orderdate) = 1995\n",
    "ORDER BY o_totalprice DESC\n",
    "LIMIT 5;\n",
    "\"\"\"\n",
    "cursor.execute(QUERY_CHALLENGE_2)\n",
    "rows = cursor.fetchall()\n",
    "print(as_dataframe(rows, cursor).to_string(index=False))"
   ]
  },
  {
   "cell_type": "markdown",
   "metadata": {},
   "source": [
    "## Exercise 1.3\n",
    "\n",
    "Find the total number of parts via unique part keys. Rename the count to \"count\".\n",
    "\n",
    "You should output a table with **1 rows** that looks like:\n",
    "\n",
    "| COUNT |\n",
    "| ----------- |\n",
    "| 200000 |"
   ]
  },
  {
   "cell_type": "code",
   "execution_count": 4,
   "metadata": {},
   "outputs": [
    {
     "name": "stdout",
     "output_type": "stream",
     "text": [
      " COUNT\n",
      "200000\n"
     ]
    }
   ],
   "source": [
    "QUERY_CHALLENGE_3 = \"\"\"\n",
    "SELECT COUNT(p_partkey) AS count FROM part; \n",
    "\"\"\"\n",
    "cursor.execute(QUERY_CHALLENGE_3)\n",
    "rows = cursor.fetchall()\n",
    "print(as_dataframe(rows, cursor).to_string(index=False))"
   ]
  },
  {
   "cell_type": "markdown",
   "metadata": {},
   "source": [
    "## Exercise 1.4\n",
    "\n",
    "List the top 5 supplier names and account balances with the highest account balances. Limit to 5 rows in descending order of account balances.\n",
    "\n",
    "You should output a table with **5 rows** that looks like:\n",
    "\n",
    "| S_NAME | S_ACCTBAL |\n",
    "| ----------- | ----------- |\n",
    "| Supplier#000009450 | 9999.72 |\n",
    "| ... | ... |"
   ]
  },
  {
   "cell_type": "code",
   "execution_count": 5,
   "metadata": {},
   "outputs": [
    {
     "name": "stdout",
     "output_type": "stream",
     "text": [
      "            S_NAME S_ACCTBAL\n",
      "Supplier#000009450   9999.72\n",
      "Supplier#000006343   9998.20\n",
      "Supplier#000002522   9997.04\n",
      "Supplier#000000892   9993.46\n",
      "Supplier#000002543   9992.70\n"
     ]
    }
   ],
   "source": [
    "QUERY_CHALLENGE_4 = \"\"\" \n",
    "SELECT s_name, s_acctbal FROM supplier\n",
    "ORDER BY s_acctbal DESC\n",
    "LIMIT 5;\n",
    "\"\"\"\n",
    "cursor.execute(QUERY_CHALLENGE_4)\n",
    "rows = cursor.fetchall()\n",
    "print(as_dataframe(rows, cursor).to_string(index=False))"
   ]
  },
  {
   "cell_type": "markdown",
   "metadata": {},
   "source": [
    "## Exercise 1.5\n",
    "\n",
    "Calculate the average order price across all orders. Rename the column to `AVG_ORDER_PRICE`.\n",
    "\n",
    "You should output a table that looks like:\n",
    "| AVG_ORDER_PRICE |\n",
    "| ----------- |\n",
    "| ... |"
   ]
  },
  {
   "cell_type": "code",
   "execution_count": 6,
   "metadata": {},
   "outputs": [
    {
     "name": "stdout",
     "output_type": "stream",
     "text": [
      "AVG_ORDER_PRICE\n",
      "151219.53763164\n"
     ]
    }
   ],
   "source": [
    "QUERY_CHALLENGE_5 = \"\"\" \n",
    "SELECT AVG(o_totalprice) AS AVG_ORDER_PRICE FROM orders; \n",
    "\"\"\"\n",
    "cursor.execute(QUERY_CHALLENGE_5)\n",
    "rows = cursor.fetchall()\n",
    "print(as_dataframe(rows, cursor).to_string(index=False))"
   ]
  },
  {
   "cell_type": "markdown",
   "metadata": {},
   "source": [
    "## Excercise 1.6\n",
    "\n",
    "Retrieve the p_name and p_partkey of all parts with a name that contains the word \"red\". Limit to 10 rows and sort by p_partkey (ascending).\n",
    "\n",
    "You should output a table with **10 rows** that looks like:\n",
    "\n",
    "| P_NAME | P_PARTKEY |\n",
    "| ----------- | ----------- |\n",
    "| honeydew red azure magenta brown   | 47 |\n",
    "| ... | ... |"
   ]
  },
  {
   "cell_type": "code",
   "execution_count": 7,
   "metadata": {},
   "outputs": [
    {
     "name": "stdout",
     "output_type": "stream",
     "text": [
      "                          P_NAME  P_PARTKEY\n",
      "honeydew red azure magenta brown         47\n",
      "goldenrod black slate forest red        116\n",
      " tomato honeydew pale red yellow        117\n",
      "        white red lace deep pale        187\n",
      "    peach cornsilk navy rosy red        200\n",
      "cyan aquamarine red plum frosted        219\n",
      "seashell tomato red lemon saddle        233\n",
      " drab aquamarine red papaya pale        248\n",
      "      navy light red royal olive        254\n",
      "     linen red plum purple steel        263\n"
     ]
    }
   ],
   "source": [
    "QUERY_CHALLENGE_6 = \"\"\" \n",
    "SELECT p_name, p_partkey FROM part\n",
    "WHERE p_name LIKE '%red%'\n",
    "ORDER BY p_partkey ASC\n",
    "LIMIT 10;\n",
    "\"\"\"\n",
    "cursor.execute(QUERY_CHALLENGE_6)\n",
    "rows = cursor.fetchall()\n",
    "print(as_dataframe(rows, cursor).to_string(index=False))"
   ]
  },
  {
   "cell_type": "markdown",
   "metadata": {},
   "source": [
    "## Exercise 1.7\n",
    "\n",
    "Retrieve the names of customers who have orders with a total price greater than 100,000. Limit to 10 rows and order by c_name.\n",
    "\n",
    "You should output a table that looks like:\n",
    "\n",
    "| C_NAME |\n",
    "| ----------- |\n",
    "| Customer#000000001 |\n",
    "| ... |"
   ]
  },
  {
   "cell_type": "code",
   "execution_count": 10,
   "metadata": {},
   "outputs": [
    {
     "name": "stdout",
     "output_type": "stream",
     "text": [
      "            C_NAME\n",
      "Customer#000000001\n",
      "Customer#000000002\n",
      "Customer#000000004\n",
      "Customer#000000005\n",
      "Customer#000000007\n",
      "Customer#000000008\n",
      "Customer#000000010\n",
      "Customer#000000011\n",
      "Customer#000000013\n",
      "Customer#000000014\n"
     ]
    }
   ],
   "source": [
    "QUERY_CHALLENGE_7 = \"\"\"\n",
    "WITH tablejoin AS (\n",
    "    SELECT c_name, c_custkey, o_custkey, o_totalprice FROM customer\n",
    "    JOIN orders ON customer.c_custkey = orders.o_custkey\n",
    "    WHERE o_totalprice > 100000\n",
    ")\n",
    "\n",
    "SELECT DISTINCT c_name FROM tablejoin\n",
    "ORDER BY c_name ASC\n",
    "LIMIT 10;\n",
    "\"\"\"\n",
    "cursor.execute(QUERY_CHALLENGE_7)\n",
    "rows = cursor.fetchall()\n",
    "print(as_dataframe(rows, cursor).to_string(index=False))"
   ]
  },
  {
   "cell_type": "markdown",
   "metadata": {},
   "source": [
    "# Submit\n",
    "\n",
    "🚨 **Make sure you save your notebook (with all outputs)** before submitting! This will ensure the most up-to-date version is graded."
   ]
  },
  {
   "cell_type": "code",
   "execution_count": 11,
   "metadata": {},
   "outputs": [
    {
     "name": "stdout",
     "output_type": "stream",
     "text": [
      "\n",
      "----------------------------------------\n",
      "Username: david.buzzell@kellogg.northwestern.edu\n",
      "Uploaded: 2025-04-18T04:07:57Z\n",
      "Due: 2025-04-18T04:59:59Z\n",
      "Homework: sql_practice.ipynb\n",
      "Score: \u001b[92m100%\u001b[0m\n",
      "Best Score: \u001b[92m100%\u001b[0m\n",
      "Attempts Remaining: \u001b[92m1\u001b[0m\n",
      "Late Penalty: 0\n",
      "----------------------------------------\n",
      "sql_practice_test.py::TestQueryChallenges::test_query_challenge_1 \u001b[92mPASSED\u001b[0m [ 14%]\n",
      "sql_practice_test.py::TestQueryChallenges::test_query_challenge_2 \u001b[92mPASSED\u001b[0m [ 28%]\n",
      "sql_practice_test.py::TestQueryChallenges::test_query_challenge_3 \u001b[92mPASSED\u001b[0m [ 42%]\n",
      "sql_practice_test.py::TestQueryChallenges::test_query_challenge_4 \u001b[92mPASSED\u001b[0m [ 57%]\n",
      "sql_practice_test.py::TestQueryChallenges::test_query_challenge_5 \u001b[92mPASSED\u001b[0m [ 71%]\n",
      "sql_practice_test.py::TestQueryChallenges::test_query_challenge_6 \u001b[92mPASSED\u001b[0m [ 85%]\n",
      "sql_practice_test.py::TestQueryChallenges::test_query_challenge_7 \u001b[92mPASSED\u001b[0m [100%]\n",
      "----------------------------------------\n",
      "\n"
     ]
    }
   ],
   "source": [
    "from submit import send_notebook\n",
    "response = send_notebook(\"./sql_practice.ipynb\")\n",
    "print(response[\"response\"])"
   ]
  },
  {
   "cell_type": "code",
   "execution_count": null,
   "metadata": {},
   "outputs": [],
   "source": []
  }
 ],
 "metadata": {
  "kernelspec": {
   "display_name": "Python 3",
   "language": "python",
   "name": "python3"
  },
  "language_info": {
   "codemirror_mode": {
    "name": "ipython",
    "version": 3
   },
   "file_extension": ".py",
   "mimetype": "text/x-python",
   "name": "python",
   "nbconvert_exporter": "python",
   "pygments_lexer": "ipython3",
   "version": "3.10.16"
  }
 },
 "nbformat": 4,
 "nbformat_minor": 2
}

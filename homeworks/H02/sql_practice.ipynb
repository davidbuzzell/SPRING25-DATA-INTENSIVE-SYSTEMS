{
 "cells": [
  {
   "cell_type": "markdown",
   "metadata": {},
   "source": [
    "# H.02 | Introduction to SQL and OLAP\n",
    "\n",
    "H.02 will serve as a simple introduction to SQL and OLAP. It will cover the basic concepts and provide a foundation for understanding how to work with databases and perform data analysis using SQL. We'll use Snowflake as our database and TPC-H as our dataset."
   ]
  },
  {
   "cell_type": "markdown",
   "metadata": {},
   "source": [
    "## Snowflake\n",
    "\n",
    "Snowflake is a cloud-based data warehousing platform that provides a powerful and flexible environment for storing, processing, and analyzing large volumes of data. It is designed to handle complex data workloads and offers features such as scalability, high performance, and ease of use. Snowflake supports SQL as its primary query language, making it accessible to users familiar with SQL. We will be using Snowflake to demonstrate the concepts of SQL and OLAP.\n",
    "\n",
    "Please ensure you have the .env file filled out in the root of this folder, it is required to connect to Snowflake.\n",
    "\n",
    "## TPC-H \n",
    "\n",
    "TPC-H is a dataset that simulates a real-world business environment, and has relatively simple schema. It is widely used for testing and comparing the performance of different database systems. We're going to use TPC-H to demonstrate the concepts of SQL and OLAP. The dataset consists of several tables, each representing a different aspect of the business. The tables are related to each other through foreign keys, which allow us to join them together and perform complex queries.\n",
    "\n",
    "<div style=\"align: center; justify-content: center; display: flex;\">\n",
    "    <img src=\"https://docs.snowflake.com/en/_images/sample-data-tpch-schema.png\" alt=\"Snowflake Schema\" width=\"400\" height=\"400\" style = \"border-radius: 10px\">\n",
    "</div>"
   ]
  },
  {
   "cell_type": "markdown",
   "metadata": {},
   "source": [
    "## Snowflake Connection\n",
    "\n",
    "To connect to Snowflake, we will use the `snowflake-connector-python` library. This library provides a simple and efficient way to connect to Snowflake and execute SQL queries. We will also use the `pandas` library to load the data into a DataFrame for easy viewing.\n",
    "\n",
    "**NOTE**: Snowflake will send you a MFA code when you run the below cell. If it doesn't, make sure you can login on the web interface."
   ]
  },
  {
   "cell_type": "code",
   "execution_count": null,
   "metadata": {},
   "outputs": [],
   "source": [
    "import sys\n",
    "sys.path.append('../')\n",
    "from connection import connect_to_snowflake, as_dataframe\n",
    "conn = connect_to_snowflake(database=\"SNOWFLAKE_SAMPLE_DATA\", schema=\"TPCH_SF1\")\n",
    "cursor = conn.cursor()"
   ]
  },
  {
   "cell_type": "markdown",
   "metadata": {},
   "source": [
    "# Exercise 1 | Basic SQL Practice\n",
    "\n",
    "This part of the homework will focus on using the Snowflake Connector for Python to connect to a Snowflake database and perform basic operations."
   ]
  },
  {
   "cell_type": "markdown",
   "metadata": {},
   "source": [
    "## Exercise 1.1\n",
    "\n",
    "Retrieve the names and account balances of all customers whose balance is greater than 5000. Limit to 5 rows and order by acctbal (ascending).\n",
    "\n",
    "You should output a table with **5 rows** that looks like:\n",
    "\n",
    "| C_NAME | C_ACCTBAL |\n",
    "| ------- | --------- |\n",
    "| Customer#000095488 | 5000.09 |\n",
    "| ... | ... |"
   ]
  },
  {
   "cell_type": "code",
   "execution_count": null,
   "metadata": {},
   "outputs": [],
   "source": [
    "QUERY_CHALLENGE_1 = \"\"\"\n",
    "<YOUR SQL QUERY GOES HERE>\n",
    "\"\"\"\n",
    "cursor.execute(QUERY_CHALLENGE_1)\n",
    "rows = cursor.fetchall()\n",
    "print(as_dataframe(rows, cursor).to_string(index=False))"
   ]
  },
  {
   "cell_type": "markdown",
   "metadata": {},
   "source": [
    "## Exercise 1.2\n",
    "\n",
    "List orderkey, orderdate, and totalprice with an order date in January 1995. Limit to 5 rows and order by totalprice (descending).\n",
    "\n",
    "You should output a table with **5 rows** that looks like:\n",
    "\n",
    "| O_ORDERKEY | O_ORDERDATE | O_TOTALPRICE | \n",
    "| ----------- | ----------- | ----------- |\n",
    "| 2948355 | 1995-01-21 | 469472.71 |\n",
    "| ... | ... | ... |"
   ]
  },
  {
   "cell_type": "code",
   "execution_count": null,
   "metadata": {},
   "outputs": [],
   "source": [
    "QUERY_CHALLENGE_2 = \"\"\"\n",
    "<YOUR SQL QUERY GOES HERE>\n",
    "\"\"\"\n",
    "cursor.execute(QUERY_CHALLENGE_2)\n",
    "rows = cursor.fetchall()\n",
    "print(as_dataframe(rows, cursor).to_string(index=False))"
   ]
  },
  {
   "cell_type": "markdown",
   "metadata": {},
   "source": [
    "## Exercise 1.3\n",
    "\n",
    "Find the total number of parts via unique part keys. Rename the count to \"count\".\n",
    "\n",
    "You should output a table with **1 rows** that looks like:\n",
    "\n",
    "| COUNT |\n",
    "| ----------- |\n",
    "| 200000 |"
   ]
  },
  {
   "cell_type": "code",
   "execution_count": null,
   "metadata": {},
   "outputs": [],
   "source": [
    "QUERY_CHALLENGE_3 = \"\"\"\n",
    "<YOUR SQL QUERY GOES HERE>\n",
    "\"\"\"\n",
    "cursor.execute(QUERY_CHALLENGE_3)\n",
    "rows = cursor.fetchall()\n",
    "print(as_dataframe(rows, cursor).to_string(index=False))"
   ]
  },
  {
   "cell_type": "markdown",
   "metadata": {},
   "source": [
    "## Exercise 1.4\n",
    "\n",
    "List the top 5 supplier names and account balances with the highest account balances. Limit to 5 rows in descending order of account balances.\n",
    "\n",
    "You should output a table with **5 rows** that looks like:\n",
    "\n",
    "| S_NAME | S_ACCTBAL |\n",
    "| ----------- | ----------- |\n",
    "| Supplier#000009450 | 9999.72 |\n",
    "| ... | ... |"
   ]
  },
  {
   "cell_type": "code",
   "execution_count": null,
   "metadata": {},
   "outputs": [],
   "source": [
    "QUERY_CHALLENGE_4 = \"\"\" \n",
    "<YOUR SQL QUERY GOES HERE>\n",
    "\"\"\"\n",
    "cursor.execute(QUERY_CHALLENGE_4)\n",
    "rows = cursor.fetchall()\n",
    "print(as_dataframe(rows, cursor).to_string(index=False))"
   ]
  },
  {
   "cell_type": "markdown",
   "metadata": {},
   "source": [
    "## Exercise 1.5\n",
    "\n",
    "Calculate the average order price across all orders. Rename the column to `AVG_ORDER_PRICE`.\n",
    "\n",
    "You should output a table that looks like:\n",
    "| AVG_ORDER_PRICE |\n",
    "| ----------- |\n",
    "| ... |"
   ]
  },
  {
   "cell_type": "code",
   "execution_count": null,
   "metadata": {},
   "outputs": [],
   "source": [
    "QUERY_CHALLENGE_5 = \"\"\" \n",
    "<YOUR SQL QUERY GOES HERE>\n",
    "\"\"\"\n",
    "cursor.execute(QUERY_CHALLENGE_5)\n",
    "rows = cursor.fetchall()\n",
    "print(as_dataframe(rows, cursor).to_string(index=False))"
   ]
  },
  {
   "cell_type": "markdown",
   "metadata": {},
   "source": [
    "## Excercise 1.6\n",
    "\n",
    "Retrieve the p_name and p_partkey of all parts with a name that contains the word \"red\". Limit to 10 rows and sort by p_partkey (ascending).\n",
    "\n",
    "You should output a table with **10 rows** that looks like:\n",
    "\n",
    "| P_NAME | P_PARTKEY |\n",
    "| ----------- | ----------- |\n",
    "| honeydew red azure magenta brown   | 47 |\n",
    "| ... | ... |"
   ]
  },
  {
   "cell_type": "code",
   "execution_count": null,
   "metadata": {},
   "outputs": [],
   "source": [
    "QUERY_CHALLENGE_6 = \"\"\" \n",
    "<YOUR SQL QUERY GOES HERE>\n",
    "\"\"\"\n",
    "cursor.execute(QUERY_CHALLENGE_6)\n",
    "rows = cursor.fetchall()\n",
    "print(as_dataframe(rows, cursor).to_string(index=False))"
   ]
  },
  {
   "cell_type": "markdown",
   "metadata": {},
   "source": [
    "## Exercise 1.7\n",
    "\n",
    "Retrieve the names of customers who have orders with a total price greater than 100,000. Limit to 10 rows and order by c_name.\n",
    "\n",
    "You should output a table that looks like:\n",
    "\n",
    "| C_NAME |\n",
    "| ----------- |\n",
    "| Customer#000000001 |\n",
    "| ... |"
   ]
  },
  {
   "cell_type": "code",
   "execution_count": null,
   "metadata": {},
   "outputs": [],
   "source": [
    "QUERY_CHALLENGE_7 = \"\"\" \n",
    "<YOUR SQL QUERY GOES HERE>\n",
    "\"\"\"\n",
    "cursor.execute(QUERY_CHALLENGE_7)\n",
    "rows = cursor.fetchall()\n",
    "print(as_dataframe(rows, cursor).to_string(index=False))"
   ]
  },
  {
   "cell_type": "markdown",
   "metadata": {},
   "source": [
    "# Submit\n",
    "\n",
    "🚨 **Make sure you save your notebook (with all outputs)** before submitting! This will ensure the most up-to-date version is graded."
   ]
  },
  {
   "cell_type": "code",
   "execution_count": null,
   "metadata": {},
   "outputs": [],
   "source": [
    "from submit import send_notebook\n",
    "response = send_notebook(\"./sql_practice.ipynb\")\n",
    "print(response[\"response\"])"
   ]
  }
 ],
 "metadata": {
  "kernelspec": {
   "display_name": "mbai",
   "language": "python",
   "name": "python3"
  },
  "language_info": {
   "codemirror_mode": {
    "name": "ipython",
    "version": 3
   },
   "file_extension": ".py",
   "mimetype": "text/x-python",
   "name": "python",
   "nbconvert_exporter": "python",
   "pygments_lexer": "ipython3",
   "version": "3.10.16"
  }
 },
 "nbformat": 4,
 "nbformat_minor": 2
}

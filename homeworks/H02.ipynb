{
 "cells": [
  {
   "cell_type": "markdown",
   "metadata": {},
   "source": [
    "### Outlier Detection with IQR\n",
    "\n",
    "The Interquartile Range (IQR) is a measure of statistical dispersion and is used to detect outliers in a dataset. The IQR is calculated as the difference between the 75th percentile (Q3) and the 25th percentile (Q1) of the data. Any data point that falls below Q1 - 1.5 * IQR or above Q3 + 1.5 * IQR is considered an outlier.\n",
    "\n",
    "Below, we will use the IQR method to detect outliers in the `o_totalprice` column of the `orders` table."
   ]
  },
  {
   "cell_type": "markdown",
   "metadata": {},
   "source": [
    "# Define the SQL query to detect outliers using the IQR method\n",
    "OUTLIER_IQR_QUERY = \"\"\"\n",
    "WITH Quantiles AS (\n",
    "  -- CTE to calculate the 25th percentile (Q1) and 75th percentile (Q3) of the o_totalprice column\n",
    "  SELECT\n",
    "    PERCENTILE_CONT(0.25) WITHIN GROUP (ORDER BY o_totalprice) AS Q1,\n",
    "    PERCENTILE_CONT(0.75) WITHIN GROUP (ORDER BY o_totalprice) AS Q3\n",
    "  FROM orders\n",
    "),\n",
    "\n",
    "IQR_Calculation AS (\n",
    "  -- CTE to calculate the Interquartile Range (IQR) as the difference between Q3 and Q1\n",
    "  SELECT\n",
    "    Q1,\n",
    "    Q3,\n",
    "    Q3 - Q1 AS IQR\n",
    "  FROM Quantiles\n",
    ")\n",
    "\n",
    "-- Select orders where the o_totalprice is an outlier\n",
    "SELECT\n",
    "  l.o_orderkey,\n",
    "  o_totalprice\n",
    "FROM\n",
    "  orders l\n",
    "WHERE\n",
    "  -- An outlier is defined as a value below Q1 - 1.5 * IQR or above Q3 + 1.5 * IQR\n",
    "  o_totalprice < (SELECT Q1 - 1.5 * IQR FROM IQR_Calculation) OR o_totalprice > (SELECT Q3 + 1.5 * IQR FROM IQR_Calculation)\n",
    "\"\"\"\n",
    "\n",
    "df = pd.read_sql(OUTLIER_IQR_QUERY, connector)\n",
    "df"
   ]
  },
  {
   "cell_type": "markdown",
   "metadata": {},
   "source": [
    "### Outlier Detection with Z-Score\n",
    "\n",
    "The Z-score is a measure of how many standard deviations a data point is from the mean. A Z-score of 0 indicates that the data point is exactly at the mean, while a Z-score of 1 indicates that the data point is one standard deviation above the mean. Any data point with a Z-score greater than 3 or less than -3 is considered an outlier."
   ]
  },
  {
   "cell_type": "markdown",
   "metadata": {},
   "source": [
    "OUTLIER_ZSCORE_QUERY = \"\"\"\n",
    "WITH Stats AS (\n",
    "  SELECT\n",
    "    AVG(o_totalprice) AS mean,\n",
    "    STDDEV(o_totalprice) AS stddev\n",
    "  FROM orders\n",
    ")\n",
    "SELECT\n",
    "  o_orderkey,\n",
    "  o_totalprice\n",
    "FROM\n",
    "  orders\n",
    "WHERE\n",
    "  ABS(o_totalprice - (SELECT mean FROM Stats)) / (SELECT stddev FROM Stats) > 3\n",
    "\"\"\"\n",
    "df = pd.read_sql(OUTLIER_ZSCORE_QUERY, connector)\n",
    "df"
   ]
  },
  {
   "cell_type": "markdown",
   "metadata": {},
   "source": []
  }
 ],
 "metadata": {
  "language_info": {
   "name": "python"
  }
 },
 "nbformat": 4,
 "nbformat_minor": 2
}

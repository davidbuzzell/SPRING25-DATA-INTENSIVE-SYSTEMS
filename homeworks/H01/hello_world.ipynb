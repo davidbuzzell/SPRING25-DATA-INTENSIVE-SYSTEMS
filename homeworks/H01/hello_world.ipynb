{
 "cells": [
  {
   "cell_type": "markdown",
   "metadata": {},
   "source": [
    "# H.01 | Hello, World!\n",
    "\n",
    "This is a simple homework assignment to ensure you are set up correctly on the homework server. Once you submit your solution, I run a test suite on it to make sure your code works. For all homework assignments in this course, you will receive credit for the tests that you pass."
   ]
  },
  {
   "cell_type": "code",
   "execution_count": 1,
   "metadata": {},
   "outputs": [
    {
     "name": "stdout",
     "output_type": "stream",
     "text": [
      "Hello, World!\n"
     ]
    }
   ],
   "source": [
    "printed_string = \"Hello, World!\" # Replace with 'Hello, World!'\n",
    "print(printed_string)"
   ]
  },
  {
   "cell_type": "markdown",
   "metadata": {},
   "source": [
    "# Submit\n",
    "\n",
    "You can submit your homework by running the cell below. Your grade will show up on Canvas. \n",
    "\n",
    "Make sure you save your notebook (on mac: `command + s`, on windows: `control + s`) before submitting!"
   ]
  },
  {
   "cell_type": "code",
   "execution_count": 2,
   "metadata": {},
   "outputs": [
    {
     "ename": "ValueError",
     "evalue": "Please provide a username with the --username flag or set the AG_USERNAME environment variable.",
     "output_type": "error",
     "traceback": [
      "\u001b[0;31m---------------------------------------------------------------------------\u001b[0m",
      "\u001b[0;31mValueError\u001b[0m                                Traceback (most recent call last)",
      "Cell \u001b[0;32mIn[2], line 5\u001b[0m\n\u001b[1;32m      2\u001b[0m sys\u001b[38;5;241m.\u001b[39mpath\u001b[38;5;241m.\u001b[39mappend(\u001b[38;5;124m\"\u001b[39m\u001b[38;5;124m..\u001b[39m\u001b[38;5;124m\"\u001b[39m)\n\u001b[1;32m      4\u001b[0m \u001b[38;5;28;01mfrom\u001b[39;00m \u001b[38;5;21;01msubmit\u001b[39;00m \u001b[38;5;28;01mimport\u001b[39;00m send_notebook\n\u001b[0;32m----> 5\u001b[0m response \u001b[38;5;241m=\u001b[39m \u001b[43msend_notebook\u001b[49m\u001b[43m(\u001b[49m\u001b[38;5;124;43m\"\u001b[39;49m\u001b[38;5;124;43m./hello_world.ipynb\u001b[39;49m\u001b[38;5;124;43m\"\u001b[39;49m\u001b[43m)\u001b[49m\n\u001b[1;32m      6\u001b[0m \u001b[38;5;28mprint\u001b[39m(response[\u001b[38;5;124m\"\u001b[39m\u001b[38;5;124mresponse\u001b[39m\u001b[38;5;124m\"\u001b[39m])\n",
      "File \u001b[0;32m/workspaces/SPRING25-DATA-INTENSIVE-SYSTEMS/homeworks/H01/../submit.py:74\u001b[0m, in \u001b[0;36msend_notebook\u001b[0;34m(homework, username, password)\u001b[0m\n\u001b[1;32m     71\u001b[0m \u001b[38;5;250m\u001b[39m\u001b[38;5;124;03m\"\"\"Main function to submit homework.\"\"\"\u001b[39;00m\n\u001b[1;32m     73\u001b[0m \u001b[38;5;66;03m# Get the username and password.\u001b[39;00m\n\u001b[0;32m---> 74\u001b[0m username \u001b[38;5;241m=\u001b[39m username \u001b[38;5;129;01mor\u001b[39;00m \u001b[43mget_username\u001b[49m\u001b[43m(\u001b[49m\u001b[43margparse\u001b[49m\u001b[38;5;241;43m.\u001b[39;49m\u001b[43mNamespace\u001b[49m\u001b[43m(\u001b[49m\u001b[43musername\u001b[49m\u001b[38;5;241;43m=\u001b[39;49m\u001b[43musername\u001b[49m\u001b[43m,\u001b[49m\u001b[43m \u001b[49m\u001b[43mpassword\u001b[49m\u001b[38;5;241;43m=\u001b[39;49m\u001b[43mpassword\u001b[49m\u001b[43m)\u001b[49m\u001b[43m)\u001b[49m\n\u001b[1;32m     75\u001b[0m password \u001b[38;5;241m=\u001b[39m password \u001b[38;5;129;01mor\u001b[39;00m get_password(argparse\u001b[38;5;241m.\u001b[39mNamespace(username\u001b[38;5;241m=\u001b[39musername, password\u001b[38;5;241m=\u001b[39mpassword))\n\u001b[1;32m     76\u001b[0m login_info \u001b[38;5;241m=\u001b[39m login(username, password)\n",
      "File \u001b[0;32m/workspaces/SPRING25-DATA-INTENSIVE-SYSTEMS/homeworks/H01/../submit.py:50\u001b[0m, in \u001b[0;36mget_username\u001b[0;34m(args)\u001b[0m\n\u001b[1;32m     48\u001b[0m     \u001b[38;5;28;01mreturn\u001b[39;00m os\u001b[38;5;241m.\u001b[39menviron\u001b[38;5;241m.\u001b[39mget(\u001b[38;5;124m\"\u001b[39m\u001b[38;5;124mAG_USERNAME\u001b[39m\u001b[38;5;124m\"\u001b[39m)\n\u001b[1;32m     49\u001b[0m \u001b[38;5;28;01melse\u001b[39;00m:\n\u001b[0;32m---> 50\u001b[0m     \u001b[38;5;28;01mraise\u001b[39;00m \u001b[38;5;167;01mValueError\u001b[39;00m(\u001b[38;5;124m\"\u001b[39m\u001b[38;5;124mPlease provide a username with the --username flag or set the AG_USERNAME environment variable.\u001b[39m\u001b[38;5;124m\"\u001b[39m)\n",
      "\u001b[0;31mValueError\u001b[0m: Please provide a username with the --username flag or set the AG_USERNAME environment variable."
     ]
    }
   ],
   "source": [
    "import sys\n",
    "sys.path.append(\"..\")\n",
    "\n",
    "from submit import send_notebook\n",
    "response = send_notebook(\"./hello_world.ipynb\")\n",
    "print(response[\"response\"])"
   ]
  }
 ],
 "metadata": {
  "kernelspec": {
   "display_name": "Python 3",
   "language": "python",
   "name": "python3"
  },
  "language_info": {
   "codemirror_mode": {
    "name": "ipython",
    "version": 3
   },
   "file_extension": ".py",
   "mimetype": "text/x-python",
   "name": "python",
   "nbconvert_exporter": "python",
   "pygments_lexer": "ipython3",
   "version": "3.10.16"
  }
 },
 "nbformat": 4,
 "nbformat_minor": 2
}

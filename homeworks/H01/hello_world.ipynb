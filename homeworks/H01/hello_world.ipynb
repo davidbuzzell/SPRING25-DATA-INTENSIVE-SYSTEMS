{
 "cells": [
  {
   "cell_type": "markdown",
   "metadata": {},
   "source": [
    "# H.01 | Hello, World!\n",
    "\n",
    "This is a simple homework assignment to ensure you are set up correctly on the homework server. Once you submit your solution, I run a test suite on it to make sure your code works. For all homework assignments in this course, you will receive credit for the tests that you pass.\n",
    "\n",
    "This homework only has one simple test -- that the string \"Hello, World!\" is printed to the console. So make sure you run the notebook!"
   ]
  },
  {
   "cell_type": "code",
   "execution_count": 3,
   "metadata": {},
   "outputs": [
    {
     "name": "stdout",
     "output_type": "stream",
     "text": [
      "...\n"
     ]
    }
   ],
   "source": [
    "printed_string = \"...\" # Replace with 'Hello, World!'\n",
    "print(printed_string)"
   ]
  },
  {
   "cell_type": "markdown",
   "metadata": {},
   "source": [
    "# Submit\n",
    "\n",
    "You can submit your homework by running the cell below. Your grade will show up on Canvas."
   ]
  },
  {
   "cell_type": "code",
   "execution_count": 4,
   "metadata": {},
   "outputs": [
    {
     "name": "stdout",
     "output_type": "stream",
     "text": [
      "\n",
      "----------------------------------------\n",
      "Username: joshuadrc@gmail.com\n",
      "Uploaded: 2025-03-31T20:56:34Z\n",
      "Due: 2025-04-04T04:59:59Z\n",
      "Homework: hello_world.ipynb\n",
      "Score: \u001b[91m0%\u001b[0m\n",
      "Best Score: \u001b[92m100%\u001b[0m\n",
      "Attempts Remaining: \u001b[91m0\u001b[0m\n",
      "Late Penalty: 0\n",
      "----------------------------------------\n",
      "hello_world_test.py::TestQueryChallenges::test_hello_world \u001b[91mFAILED\u001b[0m        [100%]\n",
      "\u001b[91mFAILED\u001b[0m hello_world_test.py::TestQueryChallenges::test_hello_world - Assertion...\n",
      "----------------------------------------\n",
      "\n"
     ]
    }
   ],
   "source": [
    "import sys\n",
    "sys.path.append(\"..\")\n",
    "\n",
    "from submit import send_notebook\n",
    "response = send_notebook(\"./hello_world.ipynb\")\n",
    "print(response[\"response\"])"
   ]
  },
  {
   "cell_type": "code",
   "execution_count": null,
   "metadata": {},
   "outputs": [],
   "source": []
  }
 ],
 "metadata": {
  "kernelspec": {
   "display_name": "mbai",
   "language": "python",
   "name": "python3"
  },
  "language_info": {
   "codemirror_mode": {
    "name": "ipython",
    "version": 3
   },
   "file_extension": ".py",
   "mimetype": "text/x-python",
   "name": "python",
   "nbconvert_exporter": "python",
   "pygments_lexer": "ipython3",
   "version": "3.10.16"
  }
 },
 "nbformat": 4,
 "nbformat_minor": 2
}

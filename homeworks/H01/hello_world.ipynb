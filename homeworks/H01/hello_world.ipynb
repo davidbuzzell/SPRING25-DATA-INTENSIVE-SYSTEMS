{
 "cells": [
  {
   "cell_type": "markdown",
   "metadata": {},
   "source": [
    "# H.01 | Hello, World!\n",
    "\n",
    "This is a simple homework assignment to ensure you are set up correctly on the homework server. Once you submit your solution, I run a test suite on it to make sure your code works. For all homework assignments in this course, you will receive credit for the tests that you pass."
   ]
  },
  {
   "cell_type": "code",
   "execution_count": null,
   "metadata": {},
   "outputs": [],
   "source": [
    "printed_string = \"...\" # Replace with 'Hello, World!'\n",
    "print(printed_string)"
   ]
  },
  {
   "cell_type": "markdown",
   "metadata": {},
   "source": [
    "# Submit\n",
    "\n",
    "You can submit your homework by running the cell below. Your grade will show up on Canvas."
   ]
  },
  {
   "cell_type": "code",
   "execution_count": null,
   "metadata": {},
   "outputs": [],
   "source": [
    "import sys\n",
    "sys.path.append(\"..\")\n",
    "\n",
    "from submit import send_notebook\n",
    "response = send_notebook(\"./hello_world.ipynb\")\n",
    "print(response[\"response\"])"
   ]
  }
 ],
 "metadata": {
  "kernelspec": {
   "display_name": "mbai",
   "language": "python",
   "name": "python3"
  },
  "language_info": {
   "codemirror_mode": {
    "name": "ipython",
    "version": 3
   },
   "file_extension": ".py",
   "mimetype": "text/x-python",
   "name": "python",
   "nbconvert_exporter": "python",
   "pygments_lexer": "ipython3",
   "version": "3.10.16"
  }
 },
 "nbformat": 4,
 "nbformat_minor": 2
}

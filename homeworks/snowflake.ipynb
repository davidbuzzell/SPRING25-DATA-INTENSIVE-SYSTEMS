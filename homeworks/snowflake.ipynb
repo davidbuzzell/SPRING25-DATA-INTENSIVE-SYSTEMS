{
 "cells": [
  {
   "cell_type": "markdown",
   "metadata": {},
   "source": [
    "## MBAI Homework\n",
    "\n",
    "The goal is to return pandas dataframes with the results of the queries. You will use the python connector from Snowflake to connect to the database and load the resolved data into pandas dataframes. \n",
    "\n",
    "You will submit your homework as a Jupyter notebook with the code and the results of your queries. "
   ]
  },
  {
   "cell_type": "code",
   "execution_count": 9,
   "metadata": {},
   "outputs": [],
   "source": [
    "from connection import connect_to_snowflake\n",
    "import pandas as pd\n",
    "import warnings\n",
    "warnings.simplefilter(action='ignore', category=UserWarning)"
   ]
  },
  {
   "cell_type": "markdown",
   "metadata": {},
   "source": [
    "# Snowflake Connection"
   ]
  },
  {
   "cell_type": "code",
   "execution_count": 10,
   "metadata": {},
   "outputs": [],
   "source": [
    "connector = connect_to_snowflake(database=\"SNOWFLAKE_SAMPLE_DATA\", warehouse=\"COMPUTE_WH\", schema=\"TPCH_SF1\")\n",
    "cursor = connector.cursor()"
   ]
  },
  {
   "cell_type": "markdown",
   "metadata": {},
   "source": [
    "## I. Serverless OLAP Speed"
   ]
  },
  {
   "cell_type": "markdown",
   "metadata": {},
   "source": [
    "Let's demonstrate the power of Snowflake & Modern OLAP systems. \n",
    "\n",
    "There is a table named `lineitem` in the TPCH_SF1 schema. The table `lineitem` has a column named `l_quantity`, which represents the quantity of items sold in that transaction. The table has **6 million rows**. Let's explore two different approaches to get the average quantity sold."
   ]
  },
  {
   "cell_type": "markdown",
   "metadata": {},
   "source": [
    "### Slow Approach\n",
    "\n",
    "The easiest approach to calculating the average quantity is to download the entire table and then calculate the average using pandas. This is a **slow** and **expensive** approach, as it requires downloading all 6 million rows of data. For larger datasets, this approach is not feasible as you will run out of memory in your local setup."
   ]
  },
  {
   "cell_type": "code",
   "execution_count": 25,
   "metadata": {},
   "outputs": [
    {
     "data": {
      "text/html": [
       "<div>\n",
       "<style scoped>\n",
       "    .dataframe tbody tr th:only-of-type {\n",
       "        vertical-align: middle;\n",
       "    }\n",
       "\n",
       "    .dataframe tbody tr th {\n",
       "        vertical-align: top;\n",
       "    }\n",
       "\n",
       "    .dataframe thead th {\n",
       "        text-align: right;\n",
       "    }\n",
       "</style>\n",
       "<table border=\"1\" class=\"dataframe\">\n",
       "  <thead>\n",
       "    <tr style=\"text-align: right;\">\n",
       "      <th></th>\n",
       "      <th>AVG_QUANTITY</th>\n",
       "    </tr>\n",
       "  </thead>\n",
       "  <tbody>\n",
       "    <tr>\n",
       "      <th>0</th>\n",
       "      <td>25.507967</td>\n",
       "    </tr>\n",
       "  </tbody>\n",
       "</table>\n",
       "</div>"
      ],
      "text/plain": [
       "   AVG_QUANTITY\n",
       "0     25.507967"
      ]
     },
     "execution_count": 25,
     "metadata": {},
     "output_type": "execute_result"
    }
   ],
   "source": [
    "SLOW_QUERY = \"select l_quantity from lineitem;\"\n",
    "df = pd.read_sql(SLOW_QUERY, connector)\n",
    "avg_quantity = float(df[\"L_QUANTITY\"].mean())\n",
    "\n",
    "# Format into a nice table.\n",
    "df = pd.DataFrame({\"AVG_QUANTITY\": [avg_quantity]})\n",
    "df"
   ]
  },
  {
   "cell_type": "markdown",
   "metadata": {},
   "source": [
    "### Fast Approach\n",
    "\n",
    "The fast approach is to use the Snowflake SQL engine to calculate the average quantity sold. This approach is much faster and more efficient, as it only requires downloading a small amount of data and the computation is done on the (scalable) Snowflake server. This does incur a cost, but ultimately it will be cheaper to operate than a large local server."
   ]
  },
  {
   "cell_type": "code",
   "execution_count": 24,
   "metadata": {},
   "outputs": [
    {
     "data": {
      "text/html": [
       "<div>\n",
       "<style scoped>\n",
       "    .dataframe tbody tr th:only-of-type {\n",
       "        vertical-align: middle;\n",
       "    }\n",
       "\n",
       "    .dataframe tbody tr th {\n",
       "        vertical-align: top;\n",
       "    }\n",
       "\n",
       "    .dataframe thead th {\n",
       "        text-align: right;\n",
       "    }\n",
       "</style>\n",
       "<table border=\"1\" class=\"dataframe\">\n",
       "  <thead>\n",
       "    <tr style=\"text-align: right;\">\n",
       "      <th></th>\n",
       "      <th>AVG_QUANTITY</th>\n",
       "    </tr>\n",
       "  </thead>\n",
       "  <tbody>\n",
       "    <tr>\n",
       "      <th>0</th>\n",
       "      <td>25.507967</td>\n",
       "    </tr>\n",
       "  </tbody>\n",
       "</table>\n",
       "</div>"
      ],
      "text/plain": [
       "   AVG_QUANTITY\n",
       "0     25.507967"
      ]
     },
     "execution_count": 24,
     "metadata": {},
     "output_type": "execute_result"
    }
   ],
   "source": [
    "FAST_QUERY = \"select AVG(l_quantity) as avg_quantity from lineitem;\"\n",
    "df = pd.read_sql(FAST_QUERY, connector)\n",
    "df"
   ]
  },
  {
   "cell_type": "markdown",
   "metadata": {},
   "source": [
    "## II. Outlier Detection"
   ]
  },
  {
   "cell_type": "markdown",
   "metadata": {},
   "source": [
    "### Outlier Detection with IQR\n",
    "\n",
    "The Interquartile Range (IQR) is a measure of statistical dispersion and is used to detect outliers in a dataset. The IQR is calculated as the difference between the 75th percentile (Q3) and the 25th percentile (Q1) of the data. Any data point that falls below Q1 - 1.5 * IQR or above Q3 + 1.5 * IQR is considered an outlier.\n",
    "\n",
    "Below, we will use the IQR method to detect outliers in the `o_totalprice` column of the `orders` table."
   ]
  },
  {
   "cell_type": "code",
   "execution_count": null,
   "metadata": {},
   "outputs": [
    {
     "data": {
      "text/html": [
       "<div>\n",
       "<style scoped>\n",
       "    .dataframe tbody tr th:only-of-type {\n",
       "        vertical-align: middle;\n",
       "    }\n",
       "\n",
       "    .dataframe tbody tr th {\n",
       "        vertical-align: top;\n",
       "    }\n",
       "\n",
       "    .dataframe thead th {\n",
       "        text-align: right;\n",
       "    }\n",
       "</style>\n",
       "<table border=\"1\" class=\"dataframe\">\n",
       "  <thead>\n",
       "    <tr style=\"text-align: right;\">\n",
       "      <th></th>\n",
       "      <th>O_ORDERKEY</th>\n",
       "      <th>O_TOTALPRICE</th>\n",
       "    </tr>\n",
       "  </thead>\n",
       "  <tbody>\n",
       "    <tr>\n",
       "      <th>0</th>\n",
       "      <td>8516</td>\n",
       "      <td>430322.22</td>\n",
       "    </tr>\n",
       "    <tr>\n",
       "      <th>1</th>\n",
       "      <td>12804</td>\n",
       "      <td>448614.53</td>\n",
       "    </tr>\n",
       "    <tr>\n",
       "      <th>2</th>\n",
       "      <td>23684</td>\n",
       "      <td>425765.38</td>\n",
       "    </tr>\n",
       "    <tr>\n",
       "      <th>3</th>\n",
       "      <td>29158</td>\n",
       "      <td>443576.50</td>\n",
       "    </tr>\n",
       "    <tr>\n",
       "      <th>4</th>\n",
       "      <td>29378</td>\n",
       "      <td>436890.26</td>\n",
       "    </tr>\n",
       "    <tr>\n",
       "      <th>...</th>\n",
       "      <td>...</td>\n",
       "      <td>...</td>\n",
       "    </tr>\n",
       "    <tr>\n",
       "      <th>1402</th>\n",
       "      <td>2971972</td>\n",
       "      <td>456738.58</td>\n",
       "    </tr>\n",
       "    <tr>\n",
       "      <th>1403</th>\n",
       "      <td>2973444</td>\n",
       "      <td>476888.83</td>\n",
       "    </tr>\n",
       "    <tr>\n",
       "      <th>1404</th>\n",
       "      <td>2978211</td>\n",
       "      <td>431083.54</td>\n",
       "    </tr>\n",
       "    <tr>\n",
       "      <th>1405</th>\n",
       "      <td>2996450</td>\n",
       "      <td>441192.17</td>\n",
       "    </tr>\n",
       "    <tr>\n",
       "      <th>1406</th>\n",
       "      <td>2998244</td>\n",
       "      <td>425623.91</td>\n",
       "    </tr>\n",
       "  </tbody>\n",
       "</table>\n",
       "<p>1407 rows × 2 columns</p>\n",
       "</div>"
      ],
      "text/plain": [
       "      O_ORDERKEY  O_TOTALPRICE\n",
       "0           8516     430322.22\n",
       "1          12804     448614.53\n",
       "2          23684     425765.38\n",
       "3          29158     443576.50\n",
       "4          29378     436890.26\n",
       "...          ...           ...\n",
       "1402     2971972     456738.58\n",
       "1403     2973444     476888.83\n",
       "1404     2978211     431083.54\n",
       "1405     2996450     441192.17\n",
       "1406     2998244     425623.91\n",
       "\n",
       "[1407 rows x 2 columns]"
      ]
     },
     "execution_count": 73,
     "metadata": {},
     "output_type": "execute_result"
    }
   ],
   "source": [
    "# Define the SQL query to detect outliers using the IQR method\n",
    "OUTLIER_IQR_QUERY = \"\"\"\n",
    "WITH Quantiles AS (\n",
    "  -- CTE to calculate the 25th percentile (Q1) and 75th percentile (Q3) of the o_totalprice column\n",
    "  SELECT\n",
    "    PERCENTILE_CONT(0.25) WITHIN GROUP (ORDER BY o_totalprice) AS Q1,\n",
    "    PERCENTILE_CONT(0.75) WITHIN GROUP (ORDER BY o_totalprice) AS Q3\n",
    "  FROM orders\n",
    "),\n",
    "\n",
    "IQR_Calculation AS (\n",
    "  -- CTE to calculate the Interquartile Range (IQR) as the difference between Q3 and Q1\n",
    "  SELECT\n",
    "    Q1,\n",
    "    Q3,\n",
    "    Q3 - Q1 AS IQR\n",
    "  FROM Quantiles\n",
    ")\n",
    "\n",
    "-- Select orders where the o_totalprice is an outlier\n",
    "SELECT\n",
    "  l.o_orderkey,\n",
    "  o_totalprice\n",
    "FROM\n",
    "  orders l\n",
    "WHERE\n",
    "  -- An outlier is defined as a value below Q1 - 1.5 * IQR or above Q3 + 1.5 * IQR\n",
    "  o_totalprice < (SELECT Q1 - 1.5 * IQR FROM IQR_Calculation) OR o_totalprice > (SELECT Q3 + 1.5 * IQR FROM IQR_Calculation)\n",
    "\"\"\"\n",
    "\n",
    "df = pd.read_sql(OUTLIER_IQR_QUERY, connector)\n",
    "df"
   ]
  },
  {
   "cell_type": "markdown",
   "metadata": {},
   "source": [
    "### Outlier Detection with Z-Score\n",
    "\n",
    "The Z-score is a measure of how many standard deviations a data point is from the mean. A Z-score of 0 indicates that the data point is exactly at the mean, while a Z-score of 1 indicates that the data point is one standard deviation above the mean. Any data point with a Z-score greater than 3 or less than -3 is considered an outlier."
   ]
  },
  {
   "cell_type": "code",
   "execution_count": 75,
   "metadata": {},
   "outputs": [
    {
     "data": {
      "text/html": [
       "<div>\n",
       "<style scoped>\n",
       "    .dataframe tbody tr th:only-of-type {\n",
       "        vertical-align: middle;\n",
       "    }\n",
       "\n",
       "    .dataframe tbody tr th {\n",
       "        vertical-align: top;\n",
       "    }\n",
       "\n",
       "    .dataframe thead th {\n",
       "        text-align: right;\n",
       "    }\n",
       "</style>\n",
       "<table border=\"1\" class=\"dataframe\">\n",
       "  <thead>\n",
       "    <tr style=\"text-align: right;\">\n",
       "      <th></th>\n",
       "      <th>O_ORDERKEY</th>\n",
       "      <th>O_TOTALPRICE</th>\n",
       "    </tr>\n",
       "  </thead>\n",
       "  <tbody>\n",
       "    <tr>\n",
       "      <th>0</th>\n",
       "      <td>8516</td>\n",
       "      <td>430322.22</td>\n",
       "    </tr>\n",
       "    <tr>\n",
       "      <th>1</th>\n",
       "      <td>12804</td>\n",
       "      <td>448614.53</td>\n",
       "    </tr>\n",
       "    <tr>\n",
       "      <th>2</th>\n",
       "      <td>23684</td>\n",
       "      <td>425765.38</td>\n",
       "    </tr>\n",
       "    <tr>\n",
       "      <th>3</th>\n",
       "      <td>29158</td>\n",
       "      <td>443576.50</td>\n",
       "    </tr>\n",
       "    <tr>\n",
       "      <th>4</th>\n",
       "      <td>29378</td>\n",
       "      <td>436890.26</td>\n",
       "    </tr>\n",
       "    <tr>\n",
       "      <th>...</th>\n",
       "      <td>...</td>\n",
       "      <td>...</td>\n",
       "    </tr>\n",
       "    <tr>\n",
       "      <th>1713</th>\n",
       "      <td>3583616</td>\n",
       "      <td>473031.66</td>\n",
       "    </tr>\n",
       "    <tr>\n",
       "      <th>1714</th>\n",
       "      <td>3586919</td>\n",
       "      <td>522644.48</td>\n",
       "    </tr>\n",
       "    <tr>\n",
       "      <th>1715</th>\n",
       "      <td>3593862</td>\n",
       "      <td>440883.71</td>\n",
       "    </tr>\n",
       "    <tr>\n",
       "      <th>1716</th>\n",
       "      <td>3595524</td>\n",
       "      <td>418047.51</td>\n",
       "    </tr>\n",
       "    <tr>\n",
       "      <th>1717</th>\n",
       "      <td>3597604</td>\n",
       "      <td>491820.73</td>\n",
       "    </tr>\n",
       "  </tbody>\n",
       "</table>\n",
       "<p>1718 rows × 2 columns</p>\n",
       "</div>"
      ],
      "text/plain": [
       "      O_ORDERKEY  O_TOTALPRICE\n",
       "0           8516     430322.22\n",
       "1          12804     448614.53\n",
       "2          23684     425765.38\n",
       "3          29158     443576.50\n",
       "4          29378     436890.26\n",
       "...          ...           ...\n",
       "1713     3583616     473031.66\n",
       "1714     3586919     522644.48\n",
       "1715     3593862     440883.71\n",
       "1716     3595524     418047.51\n",
       "1717     3597604     491820.73\n",
       "\n",
       "[1718 rows x 2 columns]"
      ]
     },
     "execution_count": 75,
     "metadata": {},
     "output_type": "execute_result"
    }
   ],
   "source": [
    "OUTLIER_ZSCORE_QUERY = \"\"\"\n",
    "WITH Stats AS (\n",
    "  SELECT\n",
    "    AVG(o_totalprice) AS mean,\n",
    "    STDDEV(o_totalprice) AS stddev\n",
    "  FROM orders\n",
    ")\n",
    "SELECT\n",
    "  o_orderkey,\n",
    "  o_totalprice\n",
    "FROM\n",
    "  orders\n",
    "WHERE\n",
    "  ABS(o_totalprice - (SELECT mean FROM Stats)) / (SELECT stddev FROM Stats) > 3\n",
    "\"\"\"\n",
    "df = pd.read_sql(OUTLIER_ZSCORE_QUERY, connector)\n",
    "df"
   ]
  },
  {
   "cell_type": "code",
   "execution_count": null,
   "metadata": {},
   "outputs": [],
   "source": []
  }
 ],
 "metadata": {
  "kernelspec": {
   "display_name": "mbai",
   "language": "python",
   "name": "python3"
  },
  "language_info": {
   "codemirror_mode": {
    "name": "ipython",
    "version": 3
   },
   "file_extension": ".py",
   "mimetype": "text/x-python",
   "name": "python",
   "nbconvert_exporter": "python",
   "pygments_lexer": "ipython3",
   "version": "3.10.16"
  }
 },
 "nbformat": 4,
 "nbformat_minor": 2
}
